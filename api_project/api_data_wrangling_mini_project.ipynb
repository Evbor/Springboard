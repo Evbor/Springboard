{
 "cells": [
  {
   "cell_type": "markdown",
   "metadata": {},
   "source": [
    "This exercise will require you to pull some data from the Qunadl API. Qaundl is currently the most widely used aggregator of financial market data."
   ]
  },
  {
   "cell_type": "markdown",
   "metadata": {},
   "source": [
    "As a first step, you will need to register a free account on the http://www.quandl.com website."
   ]
  },
  {
   "cell_type": "markdown",
   "metadata": {},
   "source": [
    "After you register, you will be provided with a unique API key, that you should store:"
   ]
  },
  {
   "cell_type": "code",
   "execution_count": 1,
   "metadata": {},
   "outputs": [],
   "source": [
    "# Store the API key as a string - according to PEP8, constants are always named in all upper case\n",
    "API_KEY = '9QXUgyEX2syhcZ5_patS'"
   ]
  },
  {
   "cell_type": "markdown",
   "metadata": {},
   "source": [
    "Qaundl has a large number of data sources, but, unfortunately, most of them require a Premium subscription. Still, there are also a good number of free datasets."
   ]
  },
  {
   "cell_type": "markdown",
   "metadata": {},
   "source": [
    "For this mini project, we will focus on equities data from the Frankfurt Stock Exhange (FSE), which is available for free. We'll try and analyze the stock prices of a company called Carl Zeiss Meditec, which manufactures tools for eye examinations, as well as medical lasers for laser eye surgery: https://www.zeiss.com/meditec/int/home.html. The company is listed under the stock ticker AFX_X."
   ]
  },
  {
   "cell_type": "markdown",
   "metadata": {},
   "source": [
    "You can find the detailed Quandl API instructions here: https://docs.quandl.com/docs/time-series"
   ]
  },
  {
   "cell_type": "markdown",
   "metadata": {},
   "source": [
    "While there is a dedicated Python package for connecting to the Quandl API, we would prefer that you use the *requests* package, which can be easily downloaded using *pip* or *conda*. You can find the documentation for the package here: http://docs.python-requests.org/en/master/ "
   ]
  },
  {
   "cell_type": "markdown",
   "metadata": {},
   "source": [
    "Finally, apart from the *requests* package, you are encouraged to not use any third party Python packages, such as *pandas*, and instead focus on what's available in the Python Standard Library (the *collections* module might come in handy: https://pymotw.com/3/collections/).\n",
    "Also, since you won't have access to DataFrames, you are encouraged to us Python's native data structures - preferably dictionaries, though some questions can also be answered using lists.\n",
    "You can read more on these data structures here: https://docs.python.org/3/tutorial/datastructures.html"
   ]
  },
  {
   "cell_type": "markdown",
   "metadata": {},
   "source": [
    "Keep in mind that the JSON responses you will be getting from the API map almost one-to-one to Python's dictionaries. Unfortunately, they can be very nested, so make sure you read up on indexing dictionaries in the documentation provided above."
   ]
  },
  {
   "cell_type": "code",
   "execution_count": 2,
   "metadata": {},
   "outputs": [],
   "source": [
    "# First, import the relevant modules\n",
    "import requests"
   ]
  },
  {
   "cell_type": "code",
   "execution_count": 3,
   "metadata": {},
   "outputs": [],
   "source": [
    "# Now, call the Quandl API and pull out a small sample of the data (only one day) to get a glimpse\n",
    "# into the JSON structure that will be returned\n",
    "payload_test = {'limit': 1, 'api_key': API_KEY}\n",
    "r_test = requests.get('https://www.quandl.com/api/v3/datasets/FSE/AFX_X/data.json', params=payload_test)"
   ]
  },
  {
   "cell_type": "code",
   "execution_count": 4,
   "metadata": {},
   "outputs": [
    {
     "data": {
      "text/plain": [
       "{'limit': 1,\n",
       " 'transform': None,\n",
       " 'column_index': None,\n",
       " 'column_names': ['Date',\n",
       "  'Open',\n",
       "  'High',\n",
       "  'Low',\n",
       "  'Close',\n",
       "  'Change',\n",
       "  'Traded Volume',\n",
       "  'Turnover',\n",
       "  'Last Price of the Day',\n",
       "  'Daily Traded Units',\n",
       "  'Daily Turnover'],\n",
       " 'start_date': '2000-06-07',\n",
       " 'end_date': '2019-06-07',\n",
       " 'frequency': 'daily',\n",
       " 'data': [['2019-06-07',\n",
       "   None,\n",
       "   87.2,\n",
       "   85.45,\n",
       "   86.95,\n",
       "   None,\n",
       "   138663.0,\n",
       "   12010778.0,\n",
       "   None,\n",
       "   None,\n",
       "   None]],\n",
       " 'collapse': None,\n",
       " 'order': None}"
      ]
     },
     "execution_count": 4,
     "metadata": {},
     "output_type": "execute_result"
    }
   ],
   "source": [
    "# Inspect the JSON structure of the object you created, and take note of how nested it is,\n",
    "# as well as the overall structure\n",
    "r_test.json()['dataset_data']"
   ]
  },
  {
   "cell_type": "markdown",
   "metadata": {},
   "source": [
    "These are your tasks for this mini project:\n",
    "\n",
    "1. Collect data from the Franfurt Stock Exchange, for the ticker AFX_X, for the whole year 2017 (keep in mind that the date format is YYYY-MM-DD).\n",
    "2. Convert the returned JSON object into a Python dictionary.\n",
    "3. Calculate what the highest and lowest opening prices were for the stock in this period.\n",
    "4. What was the largest change in any one day (based on High and Low price)?\n",
    "5. What was the largest change between any two days (based on Closing Price)?\n",
    "6. What was the average daily trading volume during this year?\n",
    "7. (Optional) What was the median trading volume during this year. (Note: you may need to implement your own function for calculating the median.)"
   ]
  },
  {
   "cell_type": "code",
   "execution_count": 6,
   "metadata": {},
   "outputs": [
    {
     "name": "stdout",
     "output_type": "stream",
     "text": [
      "Collected data from Frankfurt Stock Exchange for ticker: AFX_X for the year 2017\n",
      "Converted json object to python dictionary\n",
      "highest opening price: 53.11\n",
      "lowest opening price: 34.0\n",
      "largest daily change: 2.8100000000000023\n",
      "Largest change between any two days (based on closing price): 2.559999999999995\n",
      "mean daily trading volume: 89124.0\n",
      "median daily trading volume: 76286.0\n"
     ]
    }
   ],
   "source": [
    "# 1)\n",
    "payload = {'api_key': API_KEY, 'start_date': '2017-01-01', 'end_date': '2017-12-31'}\n",
    "r = requests.get('https://www.quandl.com/api/v3/datasets/FSE/AFX_X/data.json', params=payload)\n",
    "print(\"Collected data from Frankfurt Stock Exchange for ticker: AFX_X for the year 2017\")\n",
    "# 2)\n",
    "dataset_data = r.json()['dataset_data']\n",
    "print(\"Converted json object to python dictionary\")\n",
    "# 3)\n",
    "opening_prices = [data_per_day[1] for data_per_day in dataset_data['data'] if data_per_day[1] is not None]\n",
    "highest_opening_price = max(opening_prices)\n",
    "lowest_opening_price = min(opening_prices)\n",
    "print(\"highest opening price: {}\".format(highest_opening_price))\n",
    "print(\"lowest opening price: {}\".format(lowest_opening_price))\n",
    "# 4) \n",
    "daily_changes = [data_per_day[2] - data_per_day[3] for data_per_day in dataset_data['data']\n",
    "                 if (data_per_day[2] is not None) and (data_per_day[3] is not None)]\n",
    "largest_daily_change = max(daily_changes)\n",
    "print(\"largest daily change: {}\".format(largest_daily_change))\n",
    "# 5)\n",
    "changes = []\n",
    "for i in range(len(dataset_data['data']) - 1):\n",
    "    change = dataset_data['data'][i + 1][4] - dataset_data['data'][i][4]\n",
    "    changes.append(change)\n",
    "largest_change = max(changes)\n",
    "print(\"Largest change between any two days (based on closing price): {}\".format(largest_change))\n",
    "# 6)\n",
    "daily_trading_vols = [data_per_day[6] for data_per_day in dataset_data['data']]\n",
    "mean_daily_trading_vol = (sum(daily_trading_vols)) // (len(daily_trading_vols))\n",
    "print(\"mean daily trading volume: {}\".format(mean_daily_trading_vol))\n",
    "# 7)\n",
    "def max_heapify(A, heap_length, i):\n",
    "    left_leaf = 2 * i + 1\n",
    "    right_leaf = 2 * i + 2\n",
    "    largest = i\n",
    "    if (left_leaf < heap_length) and (A[left_leaf] > A[largest]):\n",
    "        largest = left_leaf\n",
    "    if (right_leaf < heap_length) and (A[right_leaf] > A[largest]):\n",
    "        largest = right_leaf\n",
    "    if largest != i:\n",
    "        A[i], A[largest] = A[largest], A[i]\n",
    "        max_heapify(A, heap_length, largest)\n",
    "\n",
    "def build_heap(A):\n",
    "    heap_length = len(A)\n",
    "    for i in range (heap_length,-1,-1):\n",
    "        max_heapify(A, heap_length, i)\n",
    "\n",
    "def heap_sort(A):\n",
    "    heap_length = len(A)\n",
    "    build_heap(A)\n",
    "    for i in range(heap_length - 1,0,-1):\n",
    "        A[0], A[i] = A[i], A[0]\n",
    "        heap_length = heap_length - 1\n",
    "        max_heapify(A, heap_length, 0)\n",
    "\n",
    "def median(data):\n",
    "    heap_sort(data)\n",
    "    if len(data) % 2 == 0:\n",
    "        median = (data[(len(data) / 2)] + data[((len(data) / 2) - 1)]) / 2\n",
    "        return median\n",
    "    else:\n",
    "        median = data[(len(data) // 2)]\n",
    "        return median\n",
    "\n",
    "daily_trading_vol_median = median(daily_trading_vols)\n",
    "print(\"median daily trading volume: {}\".format(daily_trading_vol_median))\n"
   ]
  },
  {
   "cell_type": "code",
   "execution_count": null,
   "metadata": {},
   "outputs": [],
   "source": []
  }
 ],
 "metadata": {
  "kernelspec": {
   "display_name": "Python 3",
   "language": "python",
   "name": "python3"
  },
  "language_info": {
   "codemirror_mode": {
    "name": "ipython",
    "version": 3
   },
   "file_extension": ".py",
   "mimetype": "text/x-python",
   "name": "python",
   "nbconvert_exporter": "python",
   "pygments_lexer": "ipython3",
   "version": "3.7.1"
  }
 },
 "nbformat": 4,
 "nbformat_minor": 2
}
